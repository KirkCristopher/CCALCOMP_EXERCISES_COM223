{
  "nbformat": 4,
  "nbformat_minor": 0,
  "metadata": {
    "colab": {
      "provenance": [],
      "authorship_tag": "ABX9TyMWKB4hyQgAfCdy1wt2aA6U",
      "include_colab_link": true
    },
    "kernelspec": {
      "name": "python3",
      "display_name": "Python 3"
    },
    "language_info": {
      "name": "python"
    }
  },
  "cells": [
    {
      "cell_type": "markdown",
      "metadata": {
        "id": "view-in-github",
        "colab_type": "text"
      },
      "source": [
        "<a href=\"https://colab.research.google.com/github/KirkCristopher/CCALCOMP_EXERCISES_COM223/blob/main/Exercise5.ipynb\" target=\"_parent\"><img src=\"https://colab.research.google.com/assets/colab-badge.svg\" alt=\"Open In Colab\"/></a>"
      ]
    },
    {
      "cell_type": "markdown",
      "metadata": {
        "id": "-8bYOEC8HOQ4"
      },
      "source": [
        "# Exercise 5\n",
        "\n",
        "Please follow the instructions in each number."
      ]
    },
    {
      "cell_type": "markdown",
      "metadata": {
        "id": "FEPXLUAPHOQ6"
      },
      "source": [
        "### Maximum Subarray\n",
        "Given an array of integers nums, find the subarray with the largest sum and return the sum.\n",
        "\n",
        "A subarray is a contiguous non-empty sequence of elements within an array.\n",
        "\n",
        "\n",
        "\n",
        "Example 1:\n",
        "\n",
        "Input: nums = [2,-3,4,-2,2,1,-1,4]\n",
        "\n",
        "Output: 8\n",
        "\n",
        "Explanation: The subarray [4,-2,2,1,-1,4] has the largest sum 8."
      ]
    },
    {
      "cell_type": "markdown",
      "metadata": {
        "id": "D4a-4yS4HOQ7"
      },
      "source": [
        "## Tasks"
      ]
    },
    {
      "cell_type": "markdown",
      "metadata": {
        "id": "v8mlE6kYHOQ7"
      },
      "source": [
        "1. Put your student number in a list and manually compute the maximum subarray in your student number (`10 points`)"
      ]
    },
    {
      "cell_type": "code",
      "source": [
        "# Manually compute the maximum subarray sum for the given student number\n",
        "\n",
        "def manual_max_subarray(student_number):\n",
        "    n = len(student_number)\n",
        "    max_sum = float('-inf')\n",
        "    max_subarray = []\n",
        "\n",
        "    for i in range(n):\n",
        "        for j in range(i, n):\n",
        "            current_subarray = student_number[i:j+1]\n",
        "            current_sum = sum(current_subarray)\n",
        "            if current_sum > max_sum:\n",
        "                max_sum = current_sum\n",
        "                max_subarray = current_subarray\n",
        "\n",
        "    return max_sum, max_subarray\n",
        "\n",
        "# Convert student number into a list of integers\n",
        "student_number = [2, 0, 1, 5, 1, 0, 2, 1, 9, 5]\n",
        "\n",
        "# Compute the maximum subarray sum manually\n",
        "max_sum, max_subarray = manual_max_subarray(student_number)\n",
        "print(\"Manual max subarray sum:\", max_sum)\n",
        "print(\"Subarray with the maximum sum:\", max_subarray)"
      ],
      "metadata": {
        "colab": {
          "base_uri": "https://localhost:8080/"
        },
        "id": "20Tak5ITb5MP",
        "outputId": "acb6e66c-170a-4c97-a190-c158de389faf"
      },
      "execution_count": 4,
      "outputs": [
        {
          "output_type": "stream",
          "name": "stdout",
          "text": [
            "Manual max subarray sum: 26\n",
            "Subarray with the maximum sum: [2, 0, 1, 5, 1, 0, 2, 1, 9, 5]\n"
          ]
        }
      ]
    },
    {
      "cell_type": "markdown",
      "metadata": {
        "id": "nchQgI2KHOQ8"
      },
      "source": [
        "2. Write a program using a brute-force approach to get the maximum-subarray of your student number (`40 points`)"
      ]
    },
    {
      "cell_type": "code",
      "execution_count": 2,
      "metadata": {
        "vscode": {
          "languageId": "plaintext"
        },
        "id": "b9P6oe11HOQ9",
        "colab": {
          "base_uri": "https://localhost:8080/"
        },
        "outputId": "cda612bb-d4ea-4c72-a23b-d85ea86574aa"
      },
      "outputs": [
        {
          "output_type": "stream",
          "name": "stdout",
          "text": [
            "Brute-force max subarray sum: 26\n"
          ]
        }
      ],
      "source": [
        "def max_subarray_bruteforce(nums):\n",
        "    n = len(nums)\n",
        "    max_sum = float('-inf')\n",
        "\n",
        "    for i in range(n):\n",
        "        current_sum = 0\n",
        "        for j in range(i, n):\n",
        "            current_sum += nums[j]\n",
        "            if current_sum > max_sum:\n",
        "                max_sum = current_sum\n",
        "\n",
        "    return max_sum\n",
        "\n",
        "# Convert student number into a list of integers\n",
        "student_number = [2, 0, 1, 5, 1, 0, 2, 1, 9, 5]\n",
        "\n",
        "max_sum = max_subarray_bruteforce(student_number)\n",
        "print(\"Brute-force max subarray sum:\", max_sum)"
      ]
    },
    {
      "cell_type": "markdown",
      "metadata": {
        "id": "NkqAxIx_HOQ9"
      },
      "source": [
        "3. Write a program using a dynamic programming to get the maximum-subarray of your student number (`50 points`)"
      ]
    },
    {
      "cell_type": "code",
      "execution_count": 3,
      "metadata": {
        "vscode": {
          "languageId": "plaintext"
        },
        "id": "BFBp2ARLHOQ9",
        "colab": {
          "base_uri": "https://localhost:8080/"
        },
        "outputId": "dc513a6f-1a72-49b7-be07-79737c8a0a40"
      },
      "outputs": [
        {
          "output_type": "stream",
          "name": "stdout",
          "text": [
            "Dynamic Programming max subarray sum: 26\n"
          ]
        }
      ],
      "source": [
        "def max_subarray_dynamic(nums):\n",
        "    max_current = max_global = nums[0]\n",
        "\n",
        "    for i in range(1, len(nums)):\n",
        "        max_current = max(nums[i], max_current + nums[i])\n",
        "        if max_current > max_global:\n",
        "            max_global = max_current\n",
        "\n",
        "    return max_global\n",
        "\n",
        "# Convert student number into a list of integers\n",
        "student_number = [2, 0, 1, 5, 1, 0, 2, 1, 9, 5]\n",
        "\n",
        "max_sum = max_subarray_dynamic(student_number)\n",
        "print(\"Dynamic Programming max subarray sum:\", max_sum)"
      ]
    }
  ]
}